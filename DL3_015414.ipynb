{
 "cells": [
  {
   "cell_type": "code",
   "execution_count": null,
   "id": "fa636477",
   "metadata": {},
   "outputs": [],
   "source": [
    "import numpy as np\n",
    "import pandas as pd \n",
    "import matplotlib.pyplot as plt\n",
    "import tensorflow as tf\n",
    "from tensorflow.keras import layers\n"
   ]
  },
  {
   "cell_type": "code",
   "execution_count": null,
   "id": "4a87a7de",
   "metadata": {},
   "outputs": [],
   "source": [
    "batch_size = 100\n",
    "img_height = 250\n",
    "img_width = 250\n"
   ]
  },
  {
   "cell_type": "code",
   "execution_count": null,
   "id": "c84aa1b5",
   "metadata": {},
   "outputs": [],
   "source": [
    "training_ds = tf.keras.preprocessing.image_dataset_from_directory(\n",
    "    'New Plant Diseases Dataset(Augmented)/train',\n",
    "    seed=42,\n",
    "    image_size= (img_height, img_width),\n",
    "    batch_size=batch_size)\n"
   ]
  },
  {
   "cell_type": "code",
   "execution_count": null,
   "id": "18138089",
   "metadata": {},
   "outputs": [],
   "source": [
    "Found 70295 files belonging to 38 classes.\n"
   ]
  },
  {
   "cell_type": "code",
   "execution_count": null,
   "id": "0eb94850",
   "metadata": {},
   "outputs": [],
   "source": [
    "validation_ds =  tf.keras.preprocessing.image_dataset_from_directory(\n",
    "    'New Plant Diseases Dataset(Augmented)/valid',\n",
    "    seed=42,\n",
    "    image_size= (img_height, img_width),\n",
    "    batch_size=batch_size)\n"
   ]
  },
  {
   "cell_type": "code",
   "execution_count": null,
   "id": "7c38381f",
   "metadata": {},
   "outputs": [],
   "source": [
    "Found 17572 files belonging to 38 classes.\n"
   ]
  },
  {
   "cell_type": "code",
   "execution_count": null,
   "id": "bb174a83",
   "metadata": {},
   "outputs": [],
   "source": [
    "class_names = training_ds.class_names\n"
   ]
  },
  {
   "cell_type": "code",
   "execution_count": null,
   "id": "0ee635c8",
   "metadata": {},
   "outputs": [],
   "source": [
    "MyCnn = tf.keras.models.Sequential([\n",
    "  layers.BatchNormalization(),\n",
    "  layers.Conv2D(32, 3, activation='relu'),\n",
    "  layers.MaxPooling2D(),\n",
    "  layers.Conv2D(64, 3, activation='relu'),\n",
    "  layers.MaxPooling2D(),\n",
    "  layers.Conv2D(128, 3, activation='relu'),\n",
    "  layers.MaxPooling2D(),\n",
    "  layers.Flatten(),\n",
    "  layers.Dense(256, activation='relu'),\n",
    "  layers.Dense(len(class_names), activation= 'softmax')\n",
    "])\n"
   ]
  },
  {
   "cell_type": "code",
   "execution_count": null,
   "id": "e250c6f3",
   "metadata": {},
   "outputs": [],
   "source": [
    "MyCnn.compile(optimizer='adam',loss='sparse_categorical_crossentropy', metrics=['accuracy'])\n"
   ]
  },
  {
   "cell_type": "code",
   "execution_count": null,
   "id": "7b6a20e8",
   "metadata": {},
   "outputs": [],
   "source": [
    "retVal = MyCnn.fit(training_ds,validation_data= validation_ds,epochs = 2)\n"
   ]
  },
  {
   "cell_type": "code",
   "execution_count": null,
   "id": "46636cbc",
   "metadata": {},
   "outputs": [],
   "source": [
    "Epoch 1/2\n",
    "703/703 [==============================] - 2620s 4s/step - loss: 0.9547 - accuracy: 0.7291 - val_loss: 0.4364 - val_accuracy: 0.8646\n",
    "Epoch 2/2\n",
    "703/703 [==============================] - 3109s 4s/step - loss: 0.2869 - accuracy: 0.9083 - val_loss: 0.2936 - val_accuracy: 0.9046\n"
   ]
  },
  {
   "cell_type": "code",
   "execution_count": null,
   "id": "9e9e4fd5",
   "metadata": {},
   "outputs": [],
   "source": [
    "plt.plot(retVal.history['loss'], label = 'training loss')\n",
    "plt.plot(retVal.history['accuracy'], label = 'training accuracy')\n",
    "plt.legend()\n"
   ]
  },
  {
   "cell_type": "code",
   "execution_count": null,
   "id": "8ddccf87",
   "metadata": {},
   "outputs": [],
   "source": [
    "<matplotlib.legend.Legend at 0x1b73e5dbaf0>"
   ]
  },
  {
   "cell_type": "code",
   "execution_count": null,
   "id": "48f60f95",
   "metadata": {},
   "outputs": [],
   "source": [
    "AccuracyVector = []\n",
    "plt.figure(figsize=(30, 30))\n",
    "for images, labels in validation_ds.take(1):\n",
    "    predictions = MyCnn.predict(images)\n",
    "    predlabel = []\n",
    "    prdlbl = []\n",
    "    \n",
    "    for mem in predictions:\n",
    "        predlabel.append(class_names[np.argmax(mem)])\n",
    "        prdlbl.append(np.argmax(mem))\n",
    "    \n",
    "    AccuracyVector = np.array(prdlbl) == labels\n",
    "    for i in range(40):\n",
    "        ax = plt.subplot(10, 4, i + 1)\n",
    "        plt.imshow(images[i].numpy().astype(\"uint8\"))\n",
    "        plt.title('Pred: '+ predlabel[i]+' actl:'+class_names[labels[i]] )\n",
    "        plt.axis('off')\n",
    "        plt.grid(True)\n"
   ]
  },
  {
   "cell_type": "code",
   "execution_count": null,
   "id": "ca94d532",
   "metadata": {},
   "outputs": [],
   "source": [
    "4/4 [==============================] - 1s 186ms/step\n"
   ]
  },
  {
   "cell_type": "code",
   "execution_count": null,
   "id": "0e89825e",
   "metadata": {},
   "outputs": [],
   "source": [
    "plt.plot(retVal.history['val_loss'], label = 'validation loss')\n",
    "plt.plot(retVal.history['val_accuracy'], label = 'validation accuracy')\n",
    "plt.legend()\n"
   ]
  },
  {
   "cell_type": "code",
   "execution_count": null,
   "id": "3d279d8e",
   "metadata": {},
   "outputs": [],
   "source": [
    "<matplotlib.legend.Legend at 0x1b788e66cd0>"
   ]
  }
 ],
 "metadata": {},
 "nbformat": 4,
 "nbformat_minor": 5
}
